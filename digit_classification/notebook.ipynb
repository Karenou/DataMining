{
 "cells": [
  {
   "cell_type": "code",
   "execution_count": 1,
   "id": "5064d47a",
   "metadata": {},
   "outputs": [],
   "source": [
    "%load_ext autoreload\n",
    "%autoreload 2"
   ]
  },
  {
   "cell_type": "code",
   "execution_count": 2,
   "id": "2f3a9d66",
   "metadata": {},
   "outputs": [],
   "source": [
    "import pandas as pd\n",
    "import numpy as np\n",
    "import matplotlib.pyplot as plt\n",
    "\n",
    "import torch\n",
    "from torch import nn\n",
    "from torch.utils.data import Dataset, DataLoader\n",
    "import torchvision.transforms as transforms\n",
    "\n",
    "from model import *"
   ]
  },
  {
   "cell_type": "markdown",
   "id": "90b67767",
   "metadata": {},
   "source": [
    "# prepare data"
   ]
  },
  {
   "cell_type": "code",
   "execution_count": 3,
   "id": "1dc7acf1",
   "metadata": {},
   "outputs": [],
   "source": [
    "train = pd.read_csv(\"../train_valid.csv\", header=None)"
   ]
  },
  {
   "cell_type": "code",
   "execution_count": 5,
   "id": "d70132b4",
   "metadata": {},
   "outputs": [],
   "source": [
    "labels = train.iloc[:, 784]"
   ]
  },
  {
   "cell_type": "code",
   "execution_count": 150,
   "id": "00c5a116",
   "metadata": {},
   "outputs": [],
   "source": [
    "class_dist = labels.value_counts()\n",
    "class_dist = class_dist.reset_index()\n",
    "class_dist.columns = [\"class\", \"cnt\"]\n",
    "class_dist = class_dist.sort_values([\"class\"])"
   ]
  },
  {
   "cell_type": "code",
   "execution_count": 158,
   "id": "802be186",
   "metadata": {},
   "outputs": [
    {
     "name": "stderr",
     "output_type": "stream",
     "text": [
      "/Library/anaconda3/envs/pytorch1.10/lib/python3.6/site-packages/ipykernel_launcher.py:4: MatplotlibDeprecationWarning: Passing the minor parameter of set_ticks() positionally is deprecated since Matplotlib 3.2; the parameter will become keyword-only two minor releases later.\n",
      "  after removing the cwd from sys.path.\n"
     ]
    },
    {
     "data": {
      "image/png": "[encoded data removed]",
      "text/plain": [
       "<Figure size 432x288 with 1 Axes>"
      ]
     },
     "metadata": {
      "needs_background": "light"
     },
     "output_type": "display_data"
    }
   ],
   "source": [
    "fig = plt.figure()\n",
    "ax = fig.add_axes([0,0,1,1])\n",
    "ax.bar(class_dist[\"class\"], class_dist[\"cnt\"])\n",
    "ax.set_xticks(np.arange(10), [0,1,2,3,4,5,6,7,8,9])\n",
    "ax.set_title('Distribution of class labels')\n",
    "plt.xticks(np.arange(10))\n",
    "plt.show()"
   ]
  },
  {
   "cell_type": "code",
   "execution_count": 6,
   "id": "f52ecf08",
   "metadata": {},
   "outputs": [],
   "source": [
    "image_arr = train[train.columns[:784]].to_numpy()\n",
    "image_arr = image_arr.reshape(9269, 28, 28)"
   ]
  },
  {
   "cell_type": "code",
   "execution_count": 59,
   "id": "17e6ae56",
   "metadata": {},
   "outputs": [],
   "source": [
    "X_train = torch.unsqueeze(torch.from_numpy(image_arr), dim=1)\n",
    "y_train = torch.from_numpy(labels.to_numpy()).long()\n",
    "\n",
    "train_data = torch.utils.data.TensorDataset(X_train, y_train)\n",
    "train_data_loader = DataLoader(train_data, batch_size=64, num_workers=1, shuffle=True, drop_last=True)"
   ]
  },
  {
   "cell_type": "markdown",
   "id": "e2878c5a",
   "metadata": {},
   "source": [
    "- use for test data"
   ]
  },
  {
   "cell_type": "code",
   "execution_count": 99,
   "id": "417ef2b4",
   "metadata": {},
   "outputs": [],
   "source": [
    "X_test = torch.unsqueeze(torch.from_numpy(image_arr), dim=1)\n",
    "y_test = torch.from_numpy(labels.to_numpy()).long()\n",
    "\n",
    "test_data = torch.utils.data.TensorDataset(X_test, y_test)\n",
    "test_data_loader = DataLoader(train_data, batch_size=64, num_workers=1, shuffle=False, drop_last=False)"
   ]
  },
  {
   "cell_type": "markdown",
   "id": "3a58f274",
   "metadata": {},
   "source": [
    "### Train model"
   ]
  },
  {
   "cell_type": "code",
   "execution_count": 61,
   "id": "09183174",
   "metadata": {},
   "outputs": [],
   "source": [
    "def calculat_acc(output, target):\n",
    "    num_class = 10\n",
    "    output = nn.functional.softmax(output, dim=1)\n",
    "    output = torch.argmax(output, dim=1)\n",
    "    correct = torch.sum(output == target).item()\n",
    "    return correct"
   ]
  },
  {
   "cell_type": "code",
   "execution_count": null,
   "id": "4c7eefb0",
   "metadata": {},
   "outputs": [],
   "source": [
    "net = get_model(\"cnn\")\n",
    "loss_function = nn.CrossEntropyLoss()\n",
    "optimizer = torch.optim.Adam(net.parameters(), lr=0.001)"
   ]
  },
  {
   "cell_type": "code",
   "execution_count": 137,
   "id": "c72b0432",
   "metadata": {},
   "outputs": [
    {
     "data": {
      "text/plain": [
       "CNN(\n",
       "  (layer1): Sequential(\n",
       "    (0): Conv2d(1, 16, kernel_size=(3, 3), stride=(1, 1), padding=(1, 1))\n",
       "    (1): BatchNorm2d(16, eps=1e-05, momentum=0.1, affine=True, track_running_stats=True)\n",
       "    (2): Dropout(p=0.2, inplace=False)\n",
       "    (3): ReLU()\n",
       "    (4): MaxPool2d(kernel_size=2, stride=2, padding=0, dilation=1, ceil_mode=False)\n",
       "  )\n",
       "  (layer2): Sequential(\n",
       "    (0): Conv2d(16, 64, kernel_size=(3, 3), stride=(1, 1), padding=(1, 1))\n",
       "    (1): BatchNorm2d(64, eps=1e-05, momentum=0.1, affine=True, track_running_stats=True)\n",
       "    (2): Dropout(p=0.2, inplace=False)\n",
       "    (3): ReLU()\n",
       "    (4): MaxPool2d(kernel_size=2, stride=2, padding=0, dilation=1, ceil_mode=False)\n",
       "  )\n",
       "  (layer3): Sequential(\n",
       "    (0): Conv2d(64, 128, kernel_size=(3, 3), stride=(1, 1), padding=(1, 1))\n",
       "    (1): BatchNorm2d(128, eps=1e-05, momentum=0.1, affine=True, track_running_stats=True)\n",
       "    (2): Dropout(p=0.2, inplace=False)\n",
       "    (3): ReLU()\n",
       "    (4): MaxPool2d(kernel_size=2, stride=2, padding=0, dilation=1, ceil_mode=False)\n",
       "  )\n",
       "  (fc1): Sequential(\n",
       "    (0): Linear(in_features=1152, out_features=1024, bias=True)\n",
       "    (1): Dropout(p=0.2, inplace=False)\n",
       "    (2): ReLU()\n",
       "  )\n",
       "  (fc2): Linear(in_features=1024, out_features=10, bias=True)\n",
       ")"
      ]
     },
     "execution_count": 137,
     "metadata": {},
     "output_type": "execute_result"
    }
   ],
   "source": [
    "net"
   ]
  },
  {
   "cell_type": "code",
   "execution_count": 126,
   "id": "29f9feec",
   "metadata": {},
   "outputs": [
    {
     "name": "stdout",
     "output_type": "stream",
     "text": [
      "epoch 0, loss: 269.7647, accuracy: 0.3455\n",
      "epoch 1, loss: 173.1156, accuracy: 0.5858\n",
      "epoch 2, loss: 141.5431, accuracy: 0.6669\n",
      "epoch 3, loss: 119.1677, accuracy: 0.7206\n",
      "epoch 4, loss: 104.1293, accuracy: 0.7576\n",
      "epoch 5, loss: 93.2038, accuracy: 0.7824\n",
      "epoch 6, loss: 83.3027, accuracy: 0.8057\n",
      "epoch 7, loss: 73.3114, accuracy: 0.8305\n",
      "epoch 8, loss: 67.7107, accuracy: 0.8402\n",
      "epoch 9, loss: 63.6537, accuracy: 0.8474\n",
      "epoch 10, loss: 55.8814, accuracy: 0.8677\n",
      "epoch 11, loss: 50.5484, accuracy: 0.8809\n",
      "epoch 12, loss: 46.4329, accuracy: 0.8887\n",
      "epoch 13, loss: 43.8228, accuracy: 0.8955\n",
      "epoch 14, loss: 41.2808, accuracy: 0.9006\n",
      "epoch 15, loss: 37.1724, accuracy: 0.9099\n",
      "epoch 16, loss: 34.6620, accuracy: 0.9169\n",
      "epoch 17, loss: 31.3079, accuracy: 0.9274\n",
      "epoch 18, loss: 28.8177, accuracy: 0.9319\n",
      "epoch 19, loss: 27.7423, accuracy: 0.9327\n"
     ]
    }
   ],
   "source": [
    "for epoch in range(20):\n",
    "    running_loss = 0.0\n",
    "    net.train()\n",
    "    batch = 0\n",
    "    correct, cnt = 0, 0\n",
    "    for data in train_data_loader:\n",
    "        imgs, label = data\n",
    "        optimizer.zero_grad()\n",
    "        output = net(imgs.float())\n",
    "        loss = loss_function(output, label)\n",
    "        loss.backward()\n",
    "        optimizer.step()\n",
    "        running_loss += loss.item()\n",
    "        batch += 1\n",
    "        \n",
    "        cnt += imgs.shape[0]\n",
    "        correct += calculat_acc(output, label)\n",
    "        \n",
    "    print(\"epoch %d, loss: %.4f, accuracy: %.4f\" % (epoch, running_loss, correct / cnt))"
   ]
  },
  {
   "cell_type": "code",
   "execution_count": 127,
   "id": "da05e90e",
   "metadata": {},
   "outputs": [],
   "source": [
    "torch.save({'model_state_dict': net.state_dict(), \n",
    "            'optimizer_state_dict': optimizer.state_dict(),}, \n",
    "           \"model.pth\")"
   ]
  },
  {
   "cell_type": "markdown",
   "id": "63a77673",
   "metadata": {},
   "source": [
    "## Predict"
   ]
  },
  {
   "cell_type": "code",
   "execution_count": 128,
   "id": "351cf351",
   "metadata": {},
   "outputs": [],
   "source": [
    "def predict(model, data_loader):\n",
    "    model.eval()\n",
    "    \n",
    "    y_pred = None\n",
    "    for data in data_loader:\n",
    "        imgs, label = data\n",
    "        optimizer.zero_grad()\n",
    "        output = model(imgs.float())\n",
    "        output = nn.functional.softmax(output, dim=1)\n",
    "        output = torch.argmax(output, dim=1)\n",
    "        if y_pred is None:\n",
    "            y_pred = output\n",
    "        else:\n",
    "            y_pred = torch.cat([y_pred, output], dim=0)\n",
    "            \n",
    "    return y_pred"
   ]
  },
  {
   "cell_type": "code",
   "execution_count": 129,
   "id": "8e8bc99a",
   "metadata": {},
   "outputs": [
    {
     "data": {
      "text/plain": [
       "<All keys matched successfully>"
      ]
     },
     "execution_count": 129,
     "metadata": {},
     "output_type": "execute_result"
    }
   ],
   "source": [
    "checkpoint = torch.load(\"model.pth\")\n",
    "net.load_state_dict(checkpoint[\"model_state_dict\"])"
   ]
  },
  {
   "cell_type": "code",
   "execution_count": 130,
   "id": "49bddcec",
   "metadata": {},
   "outputs": [
    {
     "name": "stdout",
     "output_type": "stream",
     "text": [
      "Predict accuracy: 0.9705\n"
     ]
    }
   ],
   "source": [
    "y_pred = predict(net, test_data_loader)\n",
    "y_pred = pd.DataFrame(y_pred.detach().numpy())\n",
    "y_pred.to_csv(\"Q3 predicted results.csv\", index=False, header=False)\n",
    "print(\"Predict accuracy: %.4f\" % (sum(labels == y_pred[0]) / len(labels)))"
   ]
  },
  {
   "cell_type": "code",
   "execution_count": 136,
   "id": "1e846d7c",
   "metadata": {},
   "outputs": [
    {
     "data": {
      "image/png": "[encoded data removed]",
      "text/plain": [
       "<Figure size 432x288 with 1 Axes>"
      ]
     },
     "metadata": {
      "needs_background": "light"
     },
     "output_type": "display_data"
    }
   ],
   "source": [
    "i = 5999\n",
    "plt.imshow(image_arr[i], vmin=0, vmax=1)\n",
    "plt.title(\"True label: %d, Predict label: %d\" % (labels.iloc[i], y_pred.iloc[i]))\n",
    "plt.show()"
   ]
  },
  {
   "cell_type": "code",
   "execution_count": 74,
   "id": "10d7b5ec",
   "metadata": {},
   "outputs": [],
   "source": []
  },
  {
   "cell_type": "code",
   "execution_count": 73,
   "id": "a7957545",
   "metadata": {},
   "outputs": [],
   "source": []
  },
  {
   "cell_type": "code",
   "execution_count": null,
   "id": "ac72a37f",
   "metadata": {},
   "outputs": [],
   "source": []
  }
 ],
 "metadata": {
  "kernelspec": {
   "display_name": "pytorch1.10",
   "language": "python",
   "name": "pytorch1.10"
  },
  "language_info": {
   "codemirror_mode": {
    "name": "ipython",
    "version": 3
   },
   "file_extension": ".py",
   "mimetype": "text/x-python",
   "name": "python",
   "nbconvert_exporter": "python",
   "pygments_lexer": "ipython3",
   "version": "3.6.13"
  }
 },
 "nbformat": 4,
 "nbformat_minor": 5
}
