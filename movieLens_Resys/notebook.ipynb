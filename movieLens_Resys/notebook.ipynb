{
  "cells": [
    {
      "cell_type": "markdown",
      "source": [
        "## reference\n",
        "- https://deepctr-doc.readthedocs.io/en/latest/Examples.html#multi-value-input-movielens\n",
        "- use deepfm"
      ],
      "metadata": {},
      "id": "99162187"
    },
    {
      "cell_type": "code",
      "source": [
        "import numpy as np\n",
        "import pandas as pd\n",
        "from sklearn.preprocessing import LabelEncoder\n",
        "\n",
        "import tensorflow as tf\n",
        "from tensorflow.python.keras.preprocessing.sequence import pad_sequences\n",
        "from tensorflow.python.framework.ops import disable_eager_execution\n",
        "\n",
        "from deepctr.models import DeepFM\n",
        "from deepctr.feature_column import SparseFeat, VarLenSparseFeat, get_feature_names"
      ],
      "outputs": [],
      "execution_count": 33,
      "metadata": {
        "gather": {
          "logged": 1639226842245
        }
      },
      "id": "64844ee1"
    },
    {
      "cell_type": "markdown",
      "source": [
        "- read and prepare train and test data"
      ],
      "metadata": {},
      "id": "3fe5e45d"
    },
    {
      "cell_type": "code",
      "source": [
        "movie_df = pd.read_csv(\"movies.csv\")\n",
        "user_df = pd.read_csv(\"users.csv\")\n",
        "rating_train = pd.read_csv(\"rating_train.csv\")\n",
        "rating_test = pd.read_csv(\"rating_test.csv\")\n",
        "\n",
        "# only keep the movie_id that appears in train set\n",
        "movie_id_train = pd.DataFrame(rating_train[\"MovieID\"]) \\\n",
        "                   .drop_duplicates([\"MovieID\"]) \\\n",
        "                   .set_index(\"MovieID\")\n",
        "\n",
        "movie_df = movie_df.set_index(\"MovieID\").join(\n",
        "        movie_id_train, \n",
        "        how=\"inner\"\n",
        "    ).reset_index(drop=False)\n",
        "\n",
        "# extract the year of movie\n",
        "movie_df[\"Year\"] = movie_df[\"Title\"].apply(lambda x: x[-5:-1])\n",
        "movie_df[\"Title\"] = movie_df[\"Title\"].apply(lambda x: x[:-6].strip())"
      ],
      "outputs": [],
      "execution_count": 34,
      "metadata": {
        "gather": {
          "logged": 1639226844646
        }
      },
      "id": "3a7e527b"
    },
    {
      "cell_type": "code",
      "source": [
        "# for later embedding\n",
        "user_id = sorted(user_df[\"UserID\"].unique())\n",
        "\n",
        "movie_id = sorted(movie_df[\"MovieID\"].unique().tolist())\n",
        "unknown_movie_id = 0\n",
        "movie_id.append(unknown_movie_id)\n",
        "\n",
        "age = sorted(user_df[\"Age\"].unique())\n",
        "occup_id = sorted(user_df[\"OccupationID\"].unique())\n",
        "zip_code = sorted(user_df[\"Zip-code\"].unique())\n",
        "year = [\"unknown\"] + sorted(movie_df[\"Year\"].unique())\n",
        "title = [\"unknown\"] + sorted(movie_df[\"Title\"].unique())\n",
        "gender = [\"F\", \"M\"]\n",
        "\n",
        "embed_key_dict = {\n",
        "    \"UserID\": user_id,\n",
        "    \"MovieID\": movie_id,\n",
        "    \"OccupationID\": occup_id,\n",
        "    \"Age\": age,\n",
        "    \"Zip-code\": zip_code,\n",
        "    \"Gender\": gender,\n",
        "    \"Title\": title,\n",
        "    \"Year\": year\n",
        "}"
      ],
      "outputs": [],
      "execution_count": 35,
      "metadata": {
        "gather": {
          "logged": 1639226845722
        }
      },
      "id": "2bfe3b6e"
    },
    {
      "cell_type": "code",
      "source": [
        "def prepare_data(raing, users, movies):\n",
        "    data = raing.set_index(\"MovieID\").join(\n",
        "        movies.set_index(\"MovieID\"), \n",
        "        how=\"left\"\n",
        "    )\n",
        "    data = data.reset_index(drop=False).set_index(\"UserID\").join(\n",
        "        users.set_index(\"UserID\"), \n",
        "        how=\"left\"\n",
        "    ).reset_index(drop=False)\n",
        "    \n",
        "    return data"
      ],
      "outputs": [],
      "execution_count": 39,
      "metadata": {
        "gather": {
          "logged": 1639226881806
        }
      },
      "id": "804a168e"
    },
    {
      "cell_type": "code",
      "source": [
        "train = prepare_data(rating_train, user_df, movie_df)\n",
        "test = prepare_data(rating_test, user_df, movie_df)\n",
        "\n",
        "# fill missing Title ad Genres in test as \"unknown\"\n",
        "test[\"Year\"] = test[\"Year\"].fillna(\"unknown\")\n",
        "test[\"Title\"] = test[\"Title\"].fillna(\"unknown\")\n",
        "test[\"Genres\"] = test[\"Genres\"].fillna(\"unknown\")"
      ],
      "outputs": [],
      "execution_count": 40,
      "metadata": {
        "gather": {
          "logged": 1639226883347
        }
      },
      "id": "3f7015e6"
    },
    {
      "cell_type": "markdown",
      "source": [
        "- label encoding for Gender, Title and Year"
      ],
      "metadata": {},
      "id": "b2d541dc"
    },
    {
      "cell_type": "code",
      "source": [
        "sparse_features = [\"MovieID\", \"UserID\", \"OccupationID\", \"Gender\", \"Age\", \"Zip-code\", \"Title\", \"Year\"]\n",
        "target = ['Rating']"
      ],
      "outputs": [],
      "execution_count": 41,
      "metadata": {
        "gather": {
          "logged": 1639226886175
        }
      },
      "id": "61a87a1f"
    },
    {
      "cell_type": "code",
      "source": [
        "for feat in sparse_features:\n",
        "    print(\"embed for %s\" % feat)\n",
        "    lbe = LabelEncoder()\n",
        "    lbe.fit(embed_key_dict[feat])\n",
        "    train[feat] = lbe.transform(train[feat])\n",
        "    if feat == \"MovieID\":\n",
        "        test[feat] = test[feat].map(lambda s: unknown_movie_id if s not in lbe.classes_ else s)\n",
        "    test[feat] = lbe.transform(test[feat])"
      ],
      "outputs": [
        {
          "output_type": "stream",
          "name": "stdout",
          "text": "embed for MovieID\nembed for UserID\nembed for OccupationID\nembed for Gender\nembed for Age\nembed for Zip-code\nembed for Title\nembed for Year\n"
        }
      ],
      "execution_count": 42,
      "metadata": {
        "gather": {
          "logged": 1639226889121
        }
      },
      "id": "c62a235a"
    },
    {
      "cell_type": "markdown",
      "source": [
        "- embed Genres"
      ],
      "metadata": {},
      "id": "3fe82332"
    },
    {
      "cell_type": "code",
      "source": [
        "def split(x):\n",
        "    key_ans = x.split('|')\n",
        "    for key in key_ans:\n",
        "        if key not in genre_key2index:\n",
        "            genre_key2index[key] = len(genre_key2index) + 1\n",
        "    return list(map(lambda x: genre_key2index[x], key_ans))"
      ],
      "outputs": [],
      "execution_count": 43,
      "metadata": {
        "gather": {
          "logged": 1639226891447
        }
      },
      "id": "ebf11b0a"
    },
    {
      "cell_type": "code",
      "source": [
        "# preprocess the sequence feature, add NA type for missing/unknown Genres\n",
        "genre_key2index = {\"unknown\": 1}\n",
        "train_genres_list = list(map(split, train['Genres'].values.tolist()))\n",
        "train_genres_length = np.array(list(map(len, train_genres_list)))\n",
        "train_genre_max_len = max(train_genres_length)\n",
        "train_genres_list = pad_sequences(train_genres_list, maxlen=train_genre_max_len, padding='post', )"
      ],
      "outputs": [],
      "execution_count": 44,
      "metadata": {
        "gather": {
          "logged": 1639226900496
        }
      },
      "id": "f79ea1cc"
    },
    {
      "cell_type": "code",
      "source": [
        "test_genres_list = list(map(split, test['Genres'].values.tolist()))\n",
        "test_genres_length = np.array(list(map(len, test_genres_list)))\n",
        "test_genre_max_len = max(test_genres_length)\n",
        "test_genres_list = pad_sequences(test_genres_list, maxlen=test_genre_max_len, padding='post', )"
      ],
      "outputs": [],
      "execution_count": 45,
      "metadata": {
        "jupyter": {
          "source_hidden": false,
          "outputs_hidden": false
        },
        "nteract": {
          "transient": {
            "deleting": false
          }
        },
        "gather": {
          "logged": 1639226902467
        }
      },
      "id": "ce354669-a55b-4d50-865c-01cbb1f4cc21"
    },
    {
      "cell_type": "markdown",
      "source": [
        "- prepare for feature columns"
      ],
      "metadata": {},
      "id": "887a7584"
    },
    {
      "cell_type": "code",
      "source": [
        "fixlen_feature_columns = [SparseFeat(\n",
        "    feat, \n",
        "    train[feat].max() + 2, \n",
        "    embedding_dim=4) for feat in sparse_features\n",
        "]\n",
        "\n",
        "varlen_feature_columns = [VarLenSparseFeat(\n",
        "    SparseFeat('Genres', \n",
        "               vocabulary_size=len(genre_key2index) + 1, \n",
        "               embedding_dim=4), \n",
        "    maxlen=train_genre_max_len, combiner='mean', weight_name=None)\n",
        "]\n",
        "\n",
        "linear_feature_columns = fixlen_feature_columns + varlen_feature_columns\n",
        "dnn_feature_columns = fixlen_feature_columns + varlen_feature_columns\n",
        "\n",
        "feature_names = get_feature_names(linear_feature_columns + dnn_feature_columns)"
      ],
      "outputs": [],
      "execution_count": 59,
      "metadata": {
        "gather": {
          "logged": 1639228013464
        }
      },
      "id": "d66a2117"
    },
    {
      "cell_type": "code",
      "source": [
        "# 3.generate input data for model\n",
        "train_model_input = {name: train[name] for name in feature_names}  #\n",
        "train_model_input[\"Genres\"] = train_genres_list\n",
        "\n",
        "test_model_input = {name: test[name] for name in feature_names}  \n",
        "test_model_input[\"Genres\"] = test_genres_list"
      ],
      "outputs": [],
      "execution_count": 60,
      "metadata": {
        "gather": {
          "logged": 1639228014728
        }
      },
      "id": "95d25cf5"
    },
    {
      "cell_type": "code",
      "source": [
        "mode = \"train\""
      ],
      "outputs": [],
      "execution_count": 61,
      "metadata": {
        "jupyter": {
          "source_hidden": false,
          "outputs_hidden": false
        },
        "nteract": {
          "transient": {
            "deleting": false
          }
        },
        "gather": {
          "logged": 1639228015827
        }
      },
      "id": "bbd74f4a-40ac-4623-9345-ae4fb556015a"
    },
    {
      "cell_type": "code",
      "source": [
        "n_epochs = 20\n",
        "\n",
        "model = DeepFM(linear_feature_columns, dnn_feature_columns, task='regression',\n",
        "              dnn_hidden_units=(256, 256, 256), l2_reg_linear=1e-4, l2_reg_embedding=1e-5, l2_reg_dnn=1e-4)\n",
        "\n",
        "cp_callback = tf.keras.callbacks.ModelCheckpoint(\n",
        "    filepath=\"model/deep_fm_epoch_%d\" % n_epochs,\n",
        "    save_weights_only=True, verbose=1\n",
        "    )\n",
        "opt = tf.keras.optimizers.SGD(learning_rate=0.001, momentum=0.8)\n",
        "model.compile(loss='mse', optimizer=opt, metrics=['mse'])"
      ],
      "outputs": [],
      "execution_count": 64,
      "metadata": {
        "jupyter": {
          "source_hidden": false,
          "outputs_hidden": false
        },
        "nteract": {
          "transient": {
            "deleting": false
          }
        },
        "gather": {
          "logged": 1639228060645
        }
      },
      "id": "7a9de043-bab2-44ad-930c-4a2fcbeeb920"
    },
    {
      "cell_type": "code",
      "source": [
        "if mode == \"train\":\n",
        "    history = model.fit(train_model_input, train[target].values,\n",
        "                        batch_size=128, epochs=n_epochs, verbose=2, validation_split=0.3,\n",
        "                        callbacks=[cp_callback])"
      ],
      "outputs": [
        {
          "output_type": "stream",
          "name": "stdout",
          "text": "Train on 560135 samples, validate on 240058 samples\nEpoch 1/20\n\nEpoch 00001: saving model to model/deep_fm_epoch_20\n560135/560135 - 20s - loss: 1.2707 - mse: 1.2132 - val_loss: 1.1760 - val_mse: 1.1186\nEpoch 2/20\n\nEpoch 00002: saving model to model/deep_fm_epoch_20\n560135/560135 - 18s - loss: 1.0391 - mse: 0.9816 - val_loss: 1.0485 - val_mse: 0.9909\nEpoch 3/20\n\nEpoch 00003: saving model to model/deep_fm_epoch_20\n560135/560135 - 18s - loss: 0.9021 - mse: 0.8446 - val_loss: 1.0369 - val_mse: 0.9796\nEpoch 4/20\n\nEpoch 00004: saving model to model/deep_fm_epoch_20\n560135/560135 - 18s - loss: 0.8828 - mse: 0.8257 - val_loss: 1.0508 - val_mse: 0.9940\nEpoch 5/20\n\nEpoch 00005: saving model to model/deep_fm_epoch_20\n560135/560135 - 17s - loss: 0.8756 - mse: 0.8190 - val_loss: 1.0322 - val_mse: 0.9758\nEpoch 6/20\n\nEpoch 00006: saving model to model/deep_fm_epoch_20\n560135/560135 - 17s - loss: 0.8707 - mse: 0.8145 - val_loss: 1.0315 - val_mse: 0.9756\nEpoch 7/20\n\nEpoch 00007: saving model to model/deep_fm_epoch_20\n560135/560135 - 17s - loss: 0.8667 - mse: 0.8110 - val_loss: 1.0280 - val_mse: 0.9725\nEpoch 8/20\n\nEpoch 00008: saving model to model/deep_fm_epoch_20\n560135/560135 - 17s - loss: 0.8632 - mse: 0.8079 - val_loss: 1.0324 - val_mse: 0.9773\nEpoch 9/20\n\nEpoch 00009: saving model to model/deep_fm_epoch_20\n560135/560135 - 17s - loss: 0.8595 - mse: 0.8046 - val_loss: 1.0482 - val_mse: 0.9936\nEpoch 10/20\n\nEpoch 00010: saving model to model/deep_fm_epoch_20\n560135/560135 - 17s - loss: 0.8547 - mse: 0.8002 - val_loss: 1.0247 - val_mse: 0.9704\nEpoch 11/20\n\nEpoch 00011: saving model to model/deep_fm_epoch_20\n560135/560135 - 17s - loss: 0.8495 - mse: 0.7954 - val_loss: 1.0211 - val_mse: 0.9671\nEpoch 12/20\n\nEpoch 00012: saving model to model/deep_fm_epoch_20\n560135/560135 - 18s - loss: 0.8432 - mse: 0.7894 - val_loss: 1.0218 - val_mse: 0.9682\nEpoch 13/20\n\nEpoch 00013: saving model to model/deep_fm_epoch_20\n560135/560135 - 18s - loss: 0.8373 - mse: 0.7839 - val_loss: 1.0224 - val_mse: 0.9692\nEpoch 14/20\n\nEpoch 00014: saving model to model/deep_fm_epoch_20\n560135/560135 - 18s - loss: 0.8321 - mse: 0.7791 - val_loss: 1.0322 - val_mse: 0.9794\nEpoch 15/20\n\nEpoch 00015: saving model to model/deep_fm_epoch_20\n560135/560135 - 18s - loss: 0.8272 - mse: 0.7745 - val_loss: 1.0178 - val_mse: 0.9653\nEpoch 16/20\n\nEpoch 00016: saving model to model/deep_fm_epoch_20\n560135/560135 - 18s - loss: 0.8226 - mse: 0.7702 - val_loss: 1.0252 - val_mse: 0.9731\nEpoch 17/20\n\nEpoch 00017: saving model to model/deep_fm_epoch_20\n560135/560135 - 18s - loss: 0.8186 - mse: 0.7666 - val_loss: 1.0163 - val_mse: 0.9645\nEpoch 18/20\n\nEpoch 00018: saving model to model/deep_fm_epoch_20\n560135/560135 - 18s - loss: 0.8143 - mse: 0.7627 - val_loss: 1.0217 - val_mse: 0.9702\nEpoch 19/20\n\nEpoch 00019: saving model to model/deep_fm_epoch_20\n560135/560135 - 18s - loss: 0.8101 - mse: 0.7587 - val_loss: 1.0216 - val_mse: 0.9704\nEpoch 20/20\n\nEpoch 00020: saving model to model/deep_fm_epoch_20\n560135/560135 - 18s - loss: 0.8058 - mse: 0.7548 - val_loss: 1.0236 - val_mse: 0.9728\n"
        },
        {
          "output_type": "stream",
          "name": "stderr",
          "text": "/anaconda/envs/azureml_py36/lib/python3.6/site-packages/tensorflow_core/python/framework/indexed_slices.py:433: UserWarning: Converting sparse IndexedSlices to a dense Tensor of unknown shape. This may consume a large amount of memory.\n  \"Converting sparse IndexedSlices to a dense Tensor of unknown shape. \"\n/anaconda/envs/azureml_py36/lib/python3.6/site-packages/tensorflow_core/python/framework/indexed_slices.py:433: UserWarning: Converting sparse IndexedSlices to a dense Tensor of unknown shape. This may consume a large amount of memory.\n  \"Converting sparse IndexedSlices to a dense Tensor of unknown shape. \"\n"
        }
      ],
      "execution_count": 65,
      "metadata": {
        "scrolled": false,
        "gather": {
          "logged": 1639228415435
        }
      },
      "id": "e23dc49a"
    },
    {
      "cell_type": "code",
      "source": [
        "model.load_weights(\"model/deep_fm_epoch_%d\" % n_epochs)"
      ],
      "outputs": [
        {
          "output_type": "execute_result",
          "execution_count": 66,
          "data": {
            "text/plain": "<tensorflow.python.training.tracking.util.CheckpointLoadStatus at 0x7fbeaeeff9b0>"
          },
          "metadata": {}
        }
      ],
      "execution_count": 66,
      "metadata": {
        "gather": {
          "logged": 1639229173683
        }
      },
      "id": "5ce23c07"
    },
    {
      "cell_type": "code",
      "source": [
        "y_pred = model.predict(test_model_input)"
      ],
      "outputs": [],
      "execution_count": 67,
      "metadata": {
        "jupyter": {
          "source_hidden": false,
          "outputs_hidden": false
        },
        "nteract": {
          "transient": {
            "deleting": false
          }
        },
        "gather": {
          "logged": 1639229183742
        }
      },
      "id": "719052bd-c256-452e-b2a3-46301ec00006"
    },
    {
      "cell_type": "code",
      "source": [
        "y_pred = y_pred.reshape(-1)"
      ],
      "outputs": [],
      "execution_count": 79,
      "metadata": {
        "jupyter": {
          "source_hidden": false,
          "outputs_hidden": false
        },
        "nteract": {
          "transient": {
            "deleting": false
          }
        },
        "gather": {
          "logged": 1639229407171
        }
      },
      "id": "743a2d77-8187-4aec-8b06-a3a59687590b"
    },
    {
      "cell_type": "code",
      "source": [
        "y_pred.shape"
      ],
      "outputs": [
        {
          "output_type": "execute_result",
          "execution_count": 80,
          "data": {
            "text/plain": "(200016,)"
          },
          "metadata": {}
        }
      ],
      "execution_count": 80,
      "metadata": {
        "jupyter": {
          "source_hidden": false,
          "outputs_hidden": false
        },
        "nteract": {
          "transient": {
            "deleting": false
          }
        },
        "gather": {
          "logged": 1639229412724
        }
      },
      "id": "76dc1f95-93e5-43d0-9157-8fabcae9661b"
    },
    {
      "cell_type": "code",
      "source": [
        "rating_test[\"Rating\"] = y_pred\n",
        "rating_test[\"Rating\"] = rating_test[\"Rating\"].round()\n",
        "output_df = rating_test[[\"UserID\", \"MovieID\", \"Rating\"]]\n",
        "output_df.to_csv(\"Q5_output.csv\", index=False, header=True)"
      ],
      "outputs": [],
      "execution_count": 86,
      "metadata": {
        "jupyter": {
          "source_hidden": false,
          "outputs_hidden": false
        },
        "nteract": {
          "transient": {
            "deleting": false
          }
        },
        "gather": {
          "logged": 1639229608073
        }
      },
      "id": "a7cd8afd-79c5-4dbe-9da9-fe66c050a40b"
    },
    {
      "cell_type": "code",
      "source": [
        "rating_test[\"Rating\"].value_counts()"
      ],
      "outputs": [
        {
          "output_type": "execute_result",
          "execution_count": 87,
          "data": {
            "text/plain": "4.0    119521\n3.0     55829\n5.0     12465\n2.0     11275\n1.0       925\n6.0         1\nName: Rating, dtype: int64"
          },
          "metadata": {}
        }
      ],
      "execution_count": 87,
      "metadata": {
        "jupyter": {
          "source_hidden": false,
          "outputs_hidden": false
        },
        "nteract": {
          "transient": {
            "deleting": false
          }
        },
        "gather": {
          "logged": 1639229609006
        }
      },
      "id": "d3e1f68a-e9c2-4b81-bfd5-a737a49329e2"
    },
    {
      "cell_type": "code",
      "source": [],
      "outputs": [],
      "execution_count": null,
      "metadata": {
        "jupyter": {
          "source_hidden": false,
          "outputs_hidden": false
        },
        "nteract": {
          "transient": {
            "deleting": false
          }
        }
      },
      "id": "64254e14-ede1-47c0-bdae-ad445c37d0a4"
    }
  ],
  "metadata": {
    "kernelspec": {
      "name": "python3-azureml",
      "language": "python",
      "display_name": "Python 3.6 - AzureML"
    },
    "language_info": {
      "name": "python",
      "version": "3.6.9",
      "mimetype": "text/x-python",
      "codemirror_mode": {
        "name": "ipython",
        "version": 3
      },
      "pygments_lexer": "ipython3",
      "nbconvert_exporter": "python",
      "file_extension": ".py"
    },
    "kernel_info": {
      "name": "python3-azureml"
    },
    "microsoft": {
      "host": {
        "AzureML": {
          "notebookHasBeenCompleted": true
        }
      }
    },
    "nteract": {
      "version": "nteract-front-end@1.0.0"
    }
  },
  "nbformat": 4,
  "nbformat_minor": 5
}