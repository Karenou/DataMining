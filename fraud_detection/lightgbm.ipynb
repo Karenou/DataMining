{
 "cells": [
  {
   "cell_type": "code",
   "execution_count": 55,
   "id": "8eb6e3b3",
   "metadata": {},
   "outputs": [],
   "source": [
    "import pandas as pd\n",
    "import numpy as np\n",
    "\n",
    "import datetime\n",
    "import matplotlib.pyplot as plt\n",
    "import geopy.distance"
   ]
  },
  {
   "cell_type": "markdown",
   "id": "a3fee847",
   "metadata": {},
   "source": [
    "### Use columns\n",
    "- create month, weekday/weekend, hour from trans_date_trans_time\n",
    "- amt\n",
    "- lat\n",
    "- long\n",
    "- merch_lat\n",
    "- merch_long\n",
    "- dist: distance between credict card hold and merchant\n",
    "- get age from dob\n",
    "- categorical features\n",
    "    - cc_num_prefix: the first digit from cc_num\n",
    "    - city_pop_level: discretize city_pop\n",
    "    - gender\n",
    "    - category\n",
    "    - job\n",
    "    - state\n",
    "    - zip"
   ]
  },
  {
   "cell_type": "markdown",
   "id": "10b1cef1",
   "metadata": {},
   "source": [
    "## feature engineering"
   ]
  },
  {
   "cell_type": "code",
   "execution_count": 51,
   "id": "6c37a28c",
   "metadata": {},
   "outputs": [],
   "source": [
    "def get_weekend(day):\n",
    "    if day.weekday() > 4:\n",
    "        return 1\n",
    "    else:\n",
    "        return 0\n",
    "    \n",
    "def get_distance(lat, long, merch_lat, merch_long):\n",
    "    p1 = (lat, long)\n",
    "    p2 = (merch_lat, merch_long)\n",
    "    dist = geopy.distance.distance(p1, p2).km\n",
    "    return dist\n",
    "\n",
    "def get_age(dob):\n",
    "    curr = datetime.datetime.strptime(\"2021-12-12\", \"%Y-%m-%d\")\n",
    "    age = round(abs((curr - dob).days / 365))\n",
    "    return age\n",
    "\n",
    "def get_city_level(x):\n",
    "    if x > 500000:\n",
    "        return \"city_pop_larger_than_500000\"\n",
    "    elif x > 100000 and x <= 500000:\n",
    "        return \"city_pop_100000_to_500000\"\n",
    "    elif x > 50000 and x <= 100000:\n",
    "        return \"city_pop_50000_to_100000\"\n",
    "    elif x > 10000 and x <= 50000:\n",
    "        return \"city_pop_10000_to_50000\"\n",
    "    elif x > 5000 and x <= 10000:\n",
    "        return \"city_pop_5000_to_10000\"\n",
    "    elif x > 1000 and x <= 5000:\n",
    "        return \"city_pop_1000_to_5000\"\n",
    "    else:\n",
    "        return \"city_pop_smaller_than_1000\""
   ]
  },
  {
   "cell_type": "code",
   "execution_count": 40,
   "id": "6bf11496",
   "metadata": {},
   "outputs": [
    {
     "name": "stderr",
     "output_type": "stream",
     "text": [
      "/Library/anaconda3/envs/data_mining/lib/python3.6/site-packages/numpy/lib/arraysetops.py:580: FutureWarning: elementwise comparison failed; returning scalar instead, but in the future will perform elementwise comparison\n",
      "  mask |= (ar1 == a)\n"
     ]
    }
   ],
   "source": [
    "data = pd.read_csv('fraudTrain.csv', index_col = 0, parse_dates=['trans_date_trans_time', 'dob'])"
   ]
  },
  {
   "cell_type": "code",
   "execution_count": null,
   "id": "25c58f11",
   "metadata": {},
   "outputs": [],
   "source": [
    "data[\"cc_num_prefix\"] = data[\"cc_num\"].apply(lambda x: str(x)[:1])\n",
    "data[\"trans_month\"] = data[\"trans_date_trans_time\"].apply(lambda x:  x.month)\n",
    "data[\"trans_hour\"] = data[\"trans_date_trans_time\"].apply(lambda x: x.hour)\n",
    "data[\"trans_weekend\"] = data[\"trans_date_trans_time\"].apply(lambda x: get_weekend(x))"
   ]
  },
  {
   "cell_type": "code",
   "execution_count": 57,
   "id": "0d4bd4ac",
   "metadata": {},
   "outputs": [],
   "source": [
    "# data[\"dist\"] = data.apply(lambda x: get_distance(x.lat, x.long, x.merch_lat, x.merch_long), axis=1)\n",
    "data[\"age\"] = data[\"dob\"].apply(lambda x: get_age(x))\n",
    "data[\"city_pop_level\"] = data[\"city_pop\"].apply(lambda x: get_city_level(x))"
   ]
  },
  {
   "cell_type": "code",
   "execution_count": 60,
   "id": "9f6bc3a8",
   "metadata": {},
   "outputs": [],
   "source": [
    "# the last 7 columns are categorical features\n",
    "feature_cols = [\"trans_month\", \"trans_weekend\", \"trans_hour\", \"amt\",\n",
    "                \"age\", \"lat\", \"long\", \"merch_lat\", \"merch_long\", \n",
    "                \"cc_num_prefix\", \"gender\", \"category\", \"job\",  \"state\", \"zip\", \"city_pop_level\"]\n",
    "\n",
    "label_col = [\"is_fraud\"]"
   ]
  },
  {
   "cell_type": "code",
   "execution_count": 64,
   "id": "f6e8c38e",
   "metadata": {},
   "outputs": [],
   "source": [
    "def convert_to_categorical(df, cate_col_list):\n",
    "    for cate_col in cate_col_list:   \n",
    "        df[cate_col] = df[cate_col].astype('category')\n",
    "    return df"
   ]
  },
  {
   "cell_type": "code",
   "execution_count": 65,
   "id": "53c22e0b",
   "metadata": {},
   "outputs": [
    {
     "name": "stderr",
     "output_type": "stream",
     "text": [
      "/Library/anaconda3/envs/data_mining/lib/python3.6/site-packages/ipykernel_launcher.py:3: SettingWithCopyWarning: \n",
      "A value is trying to be set on a copy of a slice from a DataFrame.\n",
      "Try using .loc[row_indexer,col_indexer] = value instead\n",
      "\n",
      "See the caveats in the documentation: https://pandas.pydata.org/pandas-docs/stable/user_guide/indexing.html#returning-a-view-versus-a-copy\n",
      "  This is separate from the ipykernel package so we can avoid doing imports until\n"
     ]
    }
   ],
   "source": [
    "clean_data = data[feature_cols + label_col]\n",
    "clean_data = convert_to_categorical(clean_data, feature_cols[-7:])"
   ]
  },
  {
   "cell_type": "markdown",
   "id": "db094d70",
   "metadata": {},
   "source": [
    "## model"
   ]
  },
  {
   "cell_type": "code",
   "execution_count": 39,
   "id": "be7815b9",
   "metadata": {},
   "outputs": [],
   "source": [
    "import lightgbm\n",
    "from sklearn.model_selection import train_test_split, GridSearchCV\n",
    "from lightgbm import LGBMClassifier\n",
    "from sklearn.metrics import mean_absolute_error, accuracy_score, precision_score, recall_score, roc_auc_score, f1_score\n",
    "import joblib\n",
    "import re"
   ]
  },
  {
   "cell_type": "code",
   "execution_count": 67,
   "id": "50096ef0",
   "metadata": {},
   "outputs": [],
   "source": [
    "X = clean_data.drop([\"is_fraud\"], axis=1)\n",
    "y = clean_data[\"is_fraud\"]\n",
    "X_train, X_test, y_train, y_test = train_test_split(X, y, test_size=0.2)"
   ]
  },
  {
   "cell_type": "code",
   "execution_count": 95,
   "id": "9856abf5",
   "metadata": {
    "scrolled": true
   },
   "outputs": [
    {
     "name": "stderr",
     "output_type": "stream",
     "text": [
      "/Library/anaconda3/envs/data_mining/lib/python3.6/site-packages/lightgbm/basic.py:1551: UserWarning: Using categorical_feature in Dataset.\n",
      "  warnings.warn('Using categorical_feature in Dataset.')\n",
      "/Library/anaconda3/envs/data_mining/lib/python3.6/site-packages/lightgbm/basic.py:1555: UserWarning: categorical_feature in Dataset is overridden.\n",
      "New categorical_feature is ['category', 'cc_num_prefix', 'city_pop_level', 'gender', 'job', 'state', 'zip']\n",
      "  'New categorical_feature is {}'.format(sorted(list(categorical_feature))))\n"
     ]
    },
    {
     "name": "stdout",
     "output_type": "stream",
     "text": [
      "[LightGBM] [Warning] Unknown parameter: silence\n",
      "[LightGBM] [Warning] Accuracy may be bad since you didn't explicitly set num_leaves OR 2^max_depth > num_leaves. (num_leaves=31).\n"
     ]
    },
    {
     "name": "stderr",
     "output_type": "stream",
     "text": [
      "/Library/anaconda3/envs/data_mining/lib/python3.6/site-packages/lightgbm/basic.py:1286: UserWarning: Overriding the parameters from Reference Dataset.\n",
      "  warnings.warn('Overriding the parameters from Reference Dataset.')\n",
      "/Library/anaconda3/envs/data_mining/lib/python3.6/site-packages/lightgbm/basic.py:1098: UserWarning: categorical_column in param dict is overridden.\n",
      "  warnings.warn('{} in param dict is overridden.'.format(cat_alias))\n"
     ]
    },
    {
     "name": "stdout",
     "output_type": "stream",
     "text": [
      "[1]\tvalid_0's binary_logloss: 0.104758\n",
      "Training until validation scores don't improve for 5 rounds\n",
      "[2]\tvalid_0's binary_logloss: 0.101997\n",
      "[3]\tvalid_0's binary_logloss: 0.103042\n",
      "[4]\tvalid_0's binary_logloss: 0.0996905\n",
      "[5]\tvalid_0's binary_logloss: 0.0989273\n",
      "[6]\tvalid_0's binary_logloss: 0.0956954\n",
      "[7]\tvalid_0's binary_logloss: 0.09458\n",
      "[8]\tvalid_0's binary_logloss: 0.0911298\n",
      "[9]\tvalid_0's binary_logloss: 0.0905591\n",
      "[10]\tvalid_0's binary_logloss: 0.0901925\n",
      "[11]\tvalid_0's binary_logloss: 0.0895654\n",
      "[12]\tvalid_0's binary_logloss: 0.0877208\n",
      "[13]\tvalid_0's binary_logloss: 0.0871847\n",
      "[14]\tvalid_0's binary_logloss: 0.0862945\n",
      "[15]\tvalid_0's binary_logloss: 0.0836698\n",
      "[16]\tvalid_0's binary_logloss: 0.0806018\n",
      "[17]\tvalid_0's binary_logloss: 0.0792931\n",
      "[18]\tvalid_0's binary_logloss: 0.0778135\n",
      "[19]\tvalid_0's binary_logloss: 0.0760097\n",
      "[20]\tvalid_0's binary_logloss: 0.0754117\n",
      "[21]\tvalid_0's binary_logloss: 0.0730006\n",
      "[22]\tvalid_0's binary_logloss: 0.0727026\n",
      "[23]\tvalid_0's binary_logloss: 0.0724393\n",
      "[24]\tvalid_0's binary_logloss: 0.0719132\n",
      "[25]\tvalid_0's binary_logloss: 0.0703039\n",
      "[26]\tvalid_0's binary_logloss: 0.0697428\n",
      "[27]\tvalid_0's binary_logloss: 0.0695514\n",
      "[28]\tvalid_0's binary_logloss: 0.0677133\n",
      "[29]\tvalid_0's binary_logloss: 0.0671842\n",
      "[30]\tvalid_0's binary_logloss: 0.0652892\n",
      "[31]\tvalid_0's binary_logloss: 0.0643468\n",
      "[32]\tvalid_0's binary_logloss: 0.0633815\n",
      "[33]\tvalid_0's binary_logloss: 0.0631443\n",
      "[34]\tvalid_0's binary_logloss: 0.0630813\n",
      "[35]\tvalid_0's binary_logloss: 0.0623833\n",
      "[36]\tvalid_0's binary_logloss: 0.0616714\n",
      "[37]\tvalid_0's binary_logloss: 0.0599382\n",
      "[38]\tvalid_0's binary_logloss: 0.0597818\n",
      "[39]\tvalid_0's binary_logloss: 0.0591983\n",
      "[40]\tvalid_0's binary_logloss: 0.0581739\n",
      "[41]\tvalid_0's binary_logloss: 0.0580446\n",
      "[42]\tvalid_0's binary_logloss: 0.0572787\n",
      "[43]\tvalid_0's binary_logloss: 0.0568644\n",
      "[44]\tvalid_0's binary_logloss: 0.0555332\n",
      "[45]\tvalid_0's binary_logloss: 0.0541316\n",
      "[46]\tvalid_0's binary_logloss: 0.0530595\n",
      "[47]\tvalid_0's binary_logloss: 0.0525208\n",
      "[48]\tvalid_0's binary_logloss: 0.0524106\n",
      "[49]\tvalid_0's binary_logloss: 0.0513901\n",
      "[50]\tvalid_0's binary_logloss: 0.0508471\n",
      "[51]\tvalid_0's binary_logloss: 0.0499418\n",
      "[52]\tvalid_0's binary_logloss: 0.0494411\n",
      "[53]\tvalid_0's binary_logloss: 0.0489513\n",
      "[54]\tvalid_0's binary_logloss: 0.0484162\n",
      "[55]\tvalid_0's binary_logloss: 0.0481327\n",
      "[56]\tvalid_0's binary_logloss: 0.0478214\n",
      "[57]\tvalid_0's binary_logloss: 0.0471091\n",
      "[58]\tvalid_0's binary_logloss: 0.046429\n",
      "[59]\tvalid_0's binary_logloss: 0.0454953\n",
      "[60]\tvalid_0's binary_logloss: 0.0450364\n",
      "[61]\tvalid_0's binary_logloss: 0.0443013\n",
      "[62]\tvalid_0's binary_logloss: 0.0439178\n",
      "[63]\tvalid_0's binary_logloss: 0.0433611\n",
      "[64]\tvalid_0's binary_logloss: 0.0428685\n",
      "[65]\tvalid_0's binary_logloss: 0.0423112\n",
      "[66]\tvalid_0's binary_logloss: 0.041649\n",
      "[67]\tvalid_0's binary_logloss: 0.0412487\n",
      "[68]\tvalid_0's binary_logloss: 0.0411426\n",
      "[69]\tvalid_0's binary_logloss: 0.0404737\n",
      "[70]\tvalid_0's binary_logloss: 0.0401245\n",
      "[71]\tvalid_0's binary_logloss: 0.0399267\n",
      "[72]\tvalid_0's binary_logloss: 0.0395684\n",
      "[73]\tvalid_0's binary_logloss: 0.0392276\n",
      "[74]\tvalid_0's binary_logloss: 0.0391034\n",
      "[75]\tvalid_0's binary_logloss: 0.0388606\n",
      "[76]\tvalid_0's binary_logloss: 0.0382998\n",
      "[77]\tvalid_0's binary_logloss: 0.037707\n",
      "[78]\tvalid_0's binary_logloss: 0.0371246\n",
      "[79]\tvalid_0's binary_logloss: 0.0365558\n",
      "[80]\tvalid_0's binary_logloss: 0.0362494\n",
      "[81]\tvalid_0's binary_logloss: 0.0358482\n",
      "[82]\tvalid_0's binary_logloss: 0.0356631\n",
      "[83]\tvalid_0's binary_logloss: 0.0355383\n",
      "[84]\tvalid_0's binary_logloss: 0.035378\n",
      "[85]\tvalid_0's binary_logloss: 0.0348554\n",
      "[86]\tvalid_0's binary_logloss: 0.0346807\n",
      "[87]\tvalid_0's binary_logloss: 0.0345443\n",
      "[88]\tvalid_0's binary_logloss: 0.0340699\n",
      "[89]\tvalid_0's binary_logloss: 0.0338533\n",
      "[90]\tvalid_0's binary_logloss: 0.0334626\n",
      "[91]\tvalid_0's binary_logloss: 0.0331617\n",
      "[92]\tvalid_0's binary_logloss: 0.0329414\n",
      "[93]\tvalid_0's binary_logloss: 0.032849\n",
      "[94]\tvalid_0's binary_logloss: 0.0325603\n",
      "[95]\tvalid_0's binary_logloss: 0.0321875\n",
      "[96]\tvalid_0's binary_logloss: 0.0319719\n",
      "[97]\tvalid_0's binary_logloss: 0.0317121\n",
      "[98]\tvalid_0's binary_logloss: 0.0316579\n",
      "[99]\tvalid_0's binary_logloss: 0.0315002\n",
      "[100]\tvalid_0's binary_logloss: 0.0312884\n",
      "Did not meet early stopping. Best iteration is:\n",
      "[100]\tvalid_0's binary_logloss: 0.0312884\n"
     ]
    },
    {
     "data": {
      "text/plain": [
       "LGBMClassifier(colsample_bytree=0.6, learning_rate=0.05, max_depth=10,\n",
       "               min_child_samples=300, random_state=100, reg_lambda=0.001,\n",
       "               scale_pos_weight=120, silence=True, subsample=0.6)"
      ]
     },
     "execution_count": 95,
     "metadata": {},
     "output_type": "execute_result"
    }
   ],
   "source": [
    "gbm = LGBMClassifier(learning_rate=0.05, n_estimators=100, max_depth=10, scale_pos_weight=120,\n",
    "                     min_child_samples=300, subsample=0.6, colsample_bytree=0.6, reg_lambda=1e-3,\n",
    "                     random_state=100, silence=True)\n",
    "\n",
    "gbm.fit(X_train, y_train, eval_set=[(X_test, y_test)], \n",
    "        early_stopping_rounds=5, categorical_feature=feature_cols[-7:])"
   ]
  },
  {
   "cell_type": "code",
   "execution_count": 98,
   "id": "10a094e0",
   "metadata": {},
   "outputs": [
    {
     "data": {
      "text/plain": [
       "['Q4_output/lightgbm_model.pkl']"
      ]
     },
     "execution_count": 98,
     "metadata": {},
     "output_type": "execute_result"
    }
   ],
   "source": [
    "# save model\n",
    "joblib.dump(gbm, 'Q4_output/lightgbm_model.pkl')"
   ]
  },
  {
   "cell_type": "code",
   "execution_count": 73,
   "id": "fed713f7",
   "metadata": {},
   "outputs": [],
   "source": [
    "# load model\n",
    "gbm = joblib.load('Q4_output/lightgbm_model.pkl')"
   ]
  },
  {
   "cell_type": "code",
   "execution_count": 99,
   "id": "9ce18636",
   "metadata": {},
   "outputs": [],
   "source": [
    "def evaluate(model, X, y):\n",
    "    y_pred = gbm.predict(X, num_iteration=gbm.best_iteration_)\n",
    "    \n",
    "    print('Precision: %.4f' % precision_score(y, y_pred))\n",
    "    print('Recall: %.4f' % recall_score(y, y_pred))\n",
    "    print('F1：', f1_score(y, y_pred))\n",
    "    print('AUC：', roc_auc_score(y, y_pred))\n",
    "    \n",
    "    return y_pred"
   ]
  },
  {
   "cell_type": "code",
   "execution_count": 100,
   "id": "fd91c723",
   "metadata": {},
   "outputs": [
    {
     "name": "stdout",
     "output_type": "stream",
     "text": [
      "Precision: 0.3212\n",
      "Recall: 0.9236\n",
      "F1： 0.4766170937108045\n",
      "AUC： 0.9563556631574867\n"
     ]
    }
   ],
   "source": [
    "y_test_pred = evaluate(gbm, X_test, y_test)"
   ]
  },
  {
   "cell_type": "code",
   "execution_count": 104,
   "id": "b6077b6b",
   "metadata": {},
   "outputs": [],
   "source": [
    "y_test_pred_df = pd.DataFrame(y_test_pred)\n",
    "y_test_pred_df.to_csv(\"Q4_output/Q4 predicted results.csv\", index=False, header=False)"
   ]
  },
  {
   "cell_type": "code",
   "execution_count": null,
   "id": "845445d2",
   "metadata": {},
   "outputs": [],
   "source": []
  }
 ],
 "metadata": {
  "kernelspec": {
   "display_name": "Tensorflow 2.6.0",
   "language": "python",
   "name": "data_mining"
  },
  "language_info": {
   "codemirror_mode": {
    "name": "ipython",
    "version": 3
   },
   "file_extension": ".py",
   "mimetype": "text/x-python",
   "name": "python",
   "nbconvert_exporter": "python",
   "pygments_lexer": "ipython3",
   "version": "3.6.13"
  }
 },
 "nbformat": 4,
 "nbformat_minor": 5
}
